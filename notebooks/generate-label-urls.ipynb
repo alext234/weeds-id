{
 "cells": [
  {
   "cell_type": "markdown",
   "metadata": {},
   "source": [
    "**This notebook does the following**\n",
    "\n",
    "* Go through all issues that has label `samples`\n",
    "* For each issue, go through all the comments, get all the image urls\n",
    "* Get the reaction of each comment and use that as a target label (`weed`, `not_weed`)\n",
    "* Save all (url, target_label) to a csv file"
   ]
  },
  {
   "cell_type": "code",
   "execution_count": 8,
   "metadata": {},
   "outputs": [],
   "source": [
    "import pandas as pd\n",
    "from github import Github\n",
    "import re\n",
    "import os\n"
   ]
  },
  {
   "cell_type": "code",
   "execution_count": 10,
   "metadata": {},
   "outputs": [],
   "source": [
    "github_token = os.environ['TOKEN']"
   ]
  },
  {
   "cell_type": "code",
   "execution_count": 11,
   "metadata": {},
   "outputs": [],
   "source": [
    "# use access token\n",
    "g = Github(github_token)\n"
   ]
  },
  {
   "cell_type": "code",
   "execution_count": 12,
   "metadata": {},
   "outputs": [],
   "source": [
    "repo_name = 'alext234/weeds-id'\n",
    "repo = g.get_repo(repo_name)"
   ]
  },
  {
   "cell_type": "code",
   "execution_count": 15,
   "metadata": {},
   "outputs": [],
   "source": [
    "def extract_img_urls(content):\n",
    "    '''\n",
    "    Extract all image urls following this format\n",
    "    ![](https://abc.com/img.jpg)\n",
    "\n",
    "    '''\n",
    "    regex = re.compile('\\!\\[.*\\]\\((.+)\\)')\n",
    "    m = regex.findall(content)\n",
    "    return m"
   ]
  },
  {
   "cell_type": "code",
   "execution_count": 66,
   "metadata": {},
   "outputs": [],
   "source": [
    "def handle_comment(comment):\n",
    "    '''\n",
    "    return a DataFrame of of (url, label)\n",
    "    '''\n",
    "    imgs = extract_img_urls(comment.body)\n",
    "#     print(\"comment by {username} \".format(username=comment.user.login))\n",
    "#     print(\"  image urls {imgs} \".format(imgs=imgs))\n",
    "    reactions = comment.get_reactions()\n",
    "    is_weed = any([reaction.content == '+1' for reaction in reactions])\n",
    "    label = 'weed' if is_weed else 'not_weed'\n",
    "    # reaction.user.login --> the reaction's username\n",
    "    \n",
    "    return pd.DataFrame({'url': imgs, 'label': label})"
   ]
  },
  {
   "cell_type": "code",
   "execution_count": 67,
   "metadata": {},
   "outputs": [],
   "source": [
    "# extract image urls and reaction from all issue's comments\n",
    "# API ref \n",
    "# https://pygithub.readthedocs.io/en/latest/github_objects/Issue.html\n",
    "def handle_issue(issue):\n",
    "    '''\n",
    "    return a DataFrame of of (url, label)\n",
    "    '''\n",
    "    print(\"handling issue '{title}'\".format(title=issue.title))\n",
    "    comments = issue.get_comments()\n",
    "    df = pd.DataFrame()\n",
    "    for comment in comments:\n",
    "        df = df.append(handle_comment(comment))\n",
    "    return df"
   ]
  },
  {
   "cell_type": "code",
   "execution_count": 68,
   "metadata": {},
   "outputs": [],
   "source": [
    "# # return list of (url,label)\n",
    "def get_sample_urls():\n",
    "    '''\n",
    "    Go through all issues with label 'samples' and extract image url and reaction.\n",
    "    Return a DataFrame of (url, is_weed)\n",
    "    '''\n",
    "    label_sample = repo.get_label(\"samples\")\n",
    "    # get issue with label 'Samples'\n",
    "    sample_issues = repo.get_issues(labels=[label_sample])\n",
    "    df = pd.DataFrame()\n",
    "    for issue in sample_issues:\n",
    "        df = df.append(handle_issue(issue))\n",
    "    return df.reset_index(drop=True)"
   ]
  },
  {
   "cell_type": "code",
   "execution_count": 69,
   "metadata": {},
   "outputs": [
    {
     "name": "stdout",
     "output_type": "stream",
     "text": [
      "handling issue 'Samples'\n"
     ]
    }
   ],
   "source": [
    "# TODO mapping of '+1' --> 'weed', no reaction --> 'not_weed'\n",
    "# TODO handle issue should return list of (url, label)\n",
    "# TODO download images into folders, zip them and upload\n",
    "# TODO should be resize and cropped center (e.g. 225 x 225)\n",
    "df = get_sample_urls()"
   ]
  },
  {
   "cell_type": "code",
   "execution_count": 70,
   "metadata": {},
   "outputs": [
    {
     "data": {
      "text/html": [
       "<div>\n",
       "<style scoped>\n",
       "    .dataframe tbody tr th:only-of-type {\n",
       "        vertical-align: middle;\n",
       "    }\n",
       "\n",
       "    .dataframe tbody tr th {\n",
       "        vertical-align: top;\n",
       "    }\n",
       "\n",
       "    .dataframe thead th {\n",
       "        text-align: right;\n",
       "    }\n",
       "</style>\n",
       "<table border=\"1\" class=\"dataframe\">\n",
       "  <thead>\n",
       "    <tr style=\"text-align: right;\">\n",
       "      <th></th>\n",
       "      <th>url</th>\n",
       "      <th>label</th>\n",
       "    </tr>\n",
       "  </thead>\n",
       "  <tbody>\n",
       "    <tr>\n",
       "      <th>0</th>\n",
       "      <td>https://user-images.githubusercontent.com/1624...</td>\n",
       "      <td>weed</td>\n",
       "    </tr>\n",
       "    <tr>\n",
       "      <th>1</th>\n",
       "      <td>https://user-images.githubusercontent.com/1624...</td>\n",
       "      <td>not_weed</td>\n",
       "    </tr>\n",
       "    <tr>\n",
       "      <th>2</th>\n",
       "      <td>https://user-images.githubusercontent.com/1624...</td>\n",
       "      <td>weed</td>\n",
       "    </tr>\n",
       "    <tr>\n",
       "      <th>3</th>\n",
       "      <td>https://user-images.githubusercontent.com/1624...</td>\n",
       "      <td>not_weed</td>\n",
       "    </tr>\n",
       "    <tr>\n",
       "      <th>4</th>\n",
       "      <td>https://user-images.githubusercontent.com/1624...</td>\n",
       "      <td>not_weed</td>\n",
       "    </tr>\n",
       "    <tr>\n",
       "      <th>5</th>\n",
       "      <td>https://user-images.githubusercontent.com/1624...</td>\n",
       "      <td>weed</td>\n",
       "    </tr>\n",
       "    <tr>\n",
       "      <th>6</th>\n",
       "      <td>https://user-images.githubusercontent.com/1624...</td>\n",
       "      <td>weed</td>\n",
       "    </tr>\n",
       "    <tr>\n",
       "      <th>7</th>\n",
       "      <td>https://user-images.githubusercontent.com/1624...</td>\n",
       "      <td>not_weed</td>\n",
       "    </tr>\n",
       "    <tr>\n",
       "      <th>8</th>\n",
       "      <td>https://user-images.githubusercontent.com/1624...</td>\n",
       "      <td>not_weed</td>\n",
       "    </tr>\n",
       "    <tr>\n",
       "      <th>9</th>\n",
       "      <td>https://user-images.githubusercontent.com/1624...</td>\n",
       "      <td>not_weed</td>\n",
       "    </tr>\n",
       "  </tbody>\n",
       "</table>\n",
       "</div>"
      ],
      "text/plain": [
       "                                                 url     label\n",
       "0  https://user-images.githubusercontent.com/1624...      weed\n",
       "1  https://user-images.githubusercontent.com/1624...  not_weed\n",
       "2  https://user-images.githubusercontent.com/1624...      weed\n",
       "3  https://user-images.githubusercontent.com/1624...  not_weed\n",
       "4  https://user-images.githubusercontent.com/1624...  not_weed\n",
       "5  https://user-images.githubusercontent.com/1624...      weed\n",
       "6  https://user-images.githubusercontent.com/1624...      weed\n",
       "7  https://user-images.githubusercontent.com/1624...  not_weed\n",
       "8  https://user-images.githubusercontent.com/1624...  not_weed\n",
       "9  https://user-images.githubusercontent.com/1624...  not_weed"
      ]
     },
     "execution_count": 70,
     "metadata": {},
     "output_type": "execute_result"
    }
   ],
   "source": [
    "df.head(10)"
   ]
  },
  {
   "cell_type": "code",
   "execution_count": 76,
   "metadata": {},
   "outputs": [
    {
     "data": {
      "text/html": [
       "<div>\n",
       "<style scoped>\n",
       "    .dataframe tbody tr th:only-of-type {\n",
       "        vertical-align: middle;\n",
       "    }\n",
       "\n",
       "    .dataframe tbody tr th {\n",
       "        vertical-align: top;\n",
       "    }\n",
       "\n",
       "    .dataframe thead th {\n",
       "        text-align: right;\n",
       "    }\n",
       "</style>\n",
       "<table border=\"1\" class=\"dataframe\">\n",
       "  <thead>\n",
       "    <tr style=\"text-align: right;\">\n",
       "      <th></th>\n",
       "      <th>url</th>\n",
       "    </tr>\n",
       "    <tr>\n",
       "      <th>label</th>\n",
       "      <th></th>\n",
       "    </tr>\n",
       "  </thead>\n",
       "  <tbody>\n",
       "    <tr>\n",
       "      <th>not_weed</th>\n",
       "      <td>11</td>\n",
       "    </tr>\n",
       "    <tr>\n",
       "      <th>weed</th>\n",
       "      <td>13</td>\n",
       "    </tr>\n",
       "  </tbody>\n",
       "</table>\n",
       "</div>"
      ],
      "text/plain": [
       "          url\n",
       "label        \n",
       "not_weed   11\n",
       "weed       13"
      ]
     },
     "execution_count": 76,
     "metadata": {},
     "output_type": "execute_result"
    }
   ],
   "source": [
    "# label count \n",
    "df.groupby('label').count()\n"
   ]
  },
  {
   "cell_type": "code",
   "execution_count": 77,
   "metadata": {},
   "outputs": [],
   "source": [
    "csv_file =  'urls_labels.csv'\n",
    "df.to_csv(csv_file, index=False)"
   ]
  },
  {
   "cell_type": "code",
   "execution_count": null,
   "metadata": {},
   "outputs": [],
   "source": []
  }
 ],
 "metadata": {
  "kernelspec": {
   "display_name": "Python 3",
   "language": "python",
   "name": "python3"
  },
  "language_info": {
   "codemirror_mode": {
    "name": "ipython",
    "version": 3
   },
   "file_extension": ".py",
   "mimetype": "text/x-python",
   "name": "python",
   "nbconvert_exporter": "python",
   "pygments_lexer": "ipython3",
   "version": "3.7.6"
  }
 },
 "nbformat": 4,
 "nbformat_minor": 4
}
