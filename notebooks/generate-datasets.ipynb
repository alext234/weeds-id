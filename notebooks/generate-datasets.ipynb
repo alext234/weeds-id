{
 "cells": [
  {
   "cell_type": "code",
   "execution_count": 3,
   "metadata": {},
   "outputs": [],
   "source": [
    "from github import Github\n",
    "import re\n",
    "import os"
   ]
  },
  {
   "cell_type": "code",
   "execution_count": 1,
   "metadata": {},
   "outputs": [],
   "source": [
    "github_token = os.environ['TOKEN']"
   ]
  },
  {
   "cell_type": "code",
   "execution_count": 4,
   "metadata": {},
   "outputs": [],
   "source": [
    "# use access token\n",
    "g = Github(github_token)\n"
   ]
  },
  {
   "cell_type": "code",
   "execution_count": 5,
   "metadata": {},
   "outputs": [],
   "source": [
    "repo_name = 'alext234/weeds-id'\n",
    "repo = g.get_repo(repo_name)"
   ]
  },
  {
   "cell_type": "code",
   "execution_count": 6,
   "metadata": {},
   "outputs": [],
   "source": [
    "label_sample = repo.get_label(\"samples\")\n"
   ]
  },
  {
   "cell_type": "code",
   "execution_count": 7,
   "metadata": {},
   "outputs": [],
   "source": [
    "# get issue with label 'Samples'\n",
    "sample_issues = repo.get_issues(labels=[label_sample])\n"
   ]
  },
  {
   "cell_type": "code",
   "execution_count": 12,
   "metadata": {},
   "outputs": [],
   "source": [
    "def extract_img_urls(content):\n",
    "    '''\n",
    "    Extract all image urls following this format\n",
    "    ![](https://abc.com/img.jpg)\n",
    "\n",
    "    '''\n",
    "    regex = re.compile('\\!\\[.*\\]\\((.+)\\)')\n",
    "    m = regex.findall(content)\n",
    "    return m"
   ]
  },
  {
   "cell_type": "code",
   "execution_count": 13,
   "metadata": {},
   "outputs": [],
   "source": [
    "def handle_comment(comment):\n",
    "    imgs = extract_img_urls(comment.body)\n",
    "    print(\"comment by {username} \".format(username=comment.user.login))\n",
    "    print(\"  image urls {imgs} \".format(imgs=imgs))\n",
    "    reactions = comment.get_reactions()\n",
    "    for reaction in reactions:\n",
    "        print(\"    reaction by {username} : {reaction_content}\".format(username = reaction.user.login, \n",
    "                                                                  reaction_content = reaction.content))"
   ]
  },
  {
   "cell_type": "code",
   "execution_count": 14,
   "metadata": {},
   "outputs": [],
   "source": [
    "# extract image urls and reaction from all issue comments\n",
    "# API ref \n",
    "# https://pygithub.readthedocs.io/en/latest/github_objects/Issue.html\n",
    "def handle_issue(issue):\n",
    "    print(\"handling issue '{title}'\".format(title=issue.title))\n",
    "    comments = issue.get_comments()\n",
    "    for comment in comments:\n",
    "        handle_comment(comment)"
   ]
  },
  {
   "cell_type": "code",
   "execution_count": null,
   "metadata": {},
   "outputs": [
    {
     "name": "stdout",
     "output_type": "stream",
     "text": [
      "handling issue 'Samples'\n",
      "comment by alext234 \n",
      "  image urls ['https://user-images.githubusercontent.com/1624522/78473609-580faf00-7785-11ea-949d-680e17be9edf.jpeg'] \n",
      "    reaction by alext234 : +1\n",
      "comment by alext234 \n",
      "  image urls ['https://user-images.githubusercontent.com/1624522/78473649-a91fa300-7785-11ea-80a2-a7d00ab535eb.jpeg'] \n",
      "comment by alext234 \n",
      "  image urls ['https://user-images.githubusercontent.com/1624522/78473664-c81e3500-7785-11ea-9c3e-370b862f1a02.jpeg'] \n",
      "    reaction by alext234 : +1\n",
      "comment by alext234 \n",
      "  image urls ['https://user-images.githubusercontent.com/1624522/78473680-e7b55d80-7785-11ea-98d7-6e58c2df8338.jpeg'] \n",
      "comment by alext234 \n",
      "  image urls ['https://user-images.githubusercontent.com/1624522/78473706-103d5780-7786-11ea-9a91-bef522da507f.jpeg'] \n",
      "comment by alext234 \n",
      "  image urls ['https://user-images.githubusercontent.com/1624522/78473734-306d1680-7786-11ea-96ea-6b7e05d8ba40.jpeg', 'https://user-images.githubusercontent.com/1624522/78473744-3fec5f80-7786-11ea-85e1-e1f4f05d1e72.jpeg'] \n"
     ]
    }
   ],
   "source": [
    "# TODO mapping of '+1' --> 'weed', no reaction --> 'not_weed'\n",
    "# TODO handle issue should return list of (url, label)\n",
    "# TODO download images into folders, zip them and upload\n",
    "for issue in sample_issues:\n",
    "    handle_issue(issue)"
   ]
  }
 ],
 "metadata": {
  "kernelspec": {
   "display_name": "Python 3",
   "language": "python",
   "name": "python3"
  },
  "language_info": {
   "codemirror_mode": {
    "name": "ipython",
    "version": 3
   },
   "file_extension": ".py",
   "mimetype": "text/x-python",
   "name": "python",
   "nbconvert_exporter": "python",
   "pygments_lexer": "ipython3",
   "version": "3.7.6"
  }
 },
 "nbformat": 4,
 "nbformat_minor": 4
}
