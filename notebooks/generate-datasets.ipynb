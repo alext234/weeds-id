{
 "cells": [
  {
   "cell_type": "code",
   "execution_count": 1,
   "metadata": {},
   "outputs": [],
   "source": [
    "from github import Github\n",
    "import re\n",
    "import os"
   ]
  },
  {
   "cell_type": "code",
   "execution_count": 10,
   "metadata": {},
   "outputs": [],
   "source": [
    "github_token = os.environ['TOKEN']"
   ]
  },
  {
   "cell_type": "code",
   "execution_count": 11,
   "metadata": {},
   "outputs": [],
   "source": [
    "# use access token\n",
    "g = Github(github_token)\n"
   ]
  },
  {
   "cell_type": "code",
   "execution_count": 79,
   "metadata": {},
   "outputs": [],
   "source": [
    "repo_name = 'alext234/weeds-id'\n",
    "repo = g.get_repo(repo_name)"
   ]
  },
  {
   "cell_type": "code",
   "execution_count": 80,
   "metadata": {},
   "outputs": [],
   "source": [
    "label_sample = repo.get_label(\"samples\")\n"
   ]
  },
  {
   "cell_type": "code",
   "execution_count": 81,
   "metadata": {},
   "outputs": [],
   "source": [
    "# get issue with label 'Samples'\n",
    "sample_issues = repo.get_issues(labels=[label_sample])\n"
   ]
  },
  {
   "cell_type": "code",
   "execution_count": 82,
   "metadata": {},
   "outputs": [],
   "source": [
    "def extract_img_urls(content):\n",
    "    '''\n",
    "    Extract all image urls following this format\n",
    "    ![](https://abc.com/img.jpg)\n",
    "\n",
    "    '''\n",
    "    regex = re.compile('\\!\\[.*\\]\\((.+)\\)')\n",
    "    m = regex.findall(s)\n",
    "    return m"
   ]
  },
  {
   "cell_type": "code",
   "execution_count": 83,
   "metadata": {},
   "outputs": [],
   "source": [
    "def handle_comment(comment):\n",
    "    imgs = extract_img_urls(comment.body)\n",
    "    print(\"comment by {username} \".format(username=comment.user.login))\n",
    "    print(\"  image urls {imgs} \".format(imgs=imgs))\n",
    "    reactions = comment.get_reactions()\n",
    "    for reaction in reactions:\n",
    "        print(\"    reaction by {username} : {reaction_content}\".format(username = reaction.user.login, \n",
    "                                                                  reaction_content = reaction.content))"
   ]
  },
  {
   "cell_type": "code",
   "execution_count": 84,
   "metadata": {},
   "outputs": [],
   "source": [
    "# extract image urls and reaction from all issue comments\n",
    "# API ref \n",
    "# https://pygithub.readthedocs.io/en/latest/github_objects/Issue.html\n",
    "def handle_issue(issue):\n",
    "    print(\"handling issue '{title}'\".format(title=issue.title))\n",
    "    comments = issue.get_comments()\n",
    "    for comment in comments:\n",
    "        handle_comment(comment)"
   ]
  },
  {
   "cell_type": "code",
   "execution_count": 85,
   "metadata": {},
   "outputs": [
    {
     "name": "stdout",
     "output_type": "stream",
     "text": [
      "handling issue 'Samples'\n",
      "comment by alext234 \n",
      "  image urls ['https://www.victa.com/content/dam/victa/au/en_au/images/support/Yard%20Tips%20Images/Grass%20Selection/VictaAUEN_GardenTips_Grass_Ryegrass.jpg', 'https://www.victa.com/content/dam/victa/au/en_au/images/support/Yard%20Tips%20Images/Grass%20Selection/VictaAUEN_GardenTips_Grass_Blue_Couch.jpg'] \n",
      "    reaction by alext234 : +1\n",
      "comment by alext234 \n",
      "  image urls ['https://www.victa.com/content/dam/victa/au/en_au/images/support/Yard%20Tips%20Images/Grass%20Selection/VictaAUEN_GardenTips_Grass_Ryegrass.jpg', 'https://www.victa.com/content/dam/victa/au/en_au/images/support/Yard%20Tips%20Images/Grass%20Selection/VictaAUEN_GardenTips_Grass_Blue_Couch.jpg'] \n",
      "comment by alext234 \n",
      "  image urls ['https://www.victa.com/content/dam/victa/au/en_au/images/support/Yard%20Tips%20Images/Grass%20Selection/VictaAUEN_GardenTips_Grass_Ryegrass.jpg', 'https://www.victa.com/content/dam/victa/au/en_au/images/support/Yard%20Tips%20Images/Grass%20Selection/VictaAUEN_GardenTips_Grass_Blue_Couch.jpg'] \n",
      "    reaction by alext234 : +1\n",
      "comment by alext234 \n",
      "  image urls ['https://www.victa.com/content/dam/victa/au/en_au/images/support/Yard%20Tips%20Images/Grass%20Selection/VictaAUEN_GardenTips_Grass_Ryegrass.jpg', 'https://www.victa.com/content/dam/victa/au/en_au/images/support/Yard%20Tips%20Images/Grass%20Selection/VictaAUEN_GardenTips_Grass_Blue_Couch.jpg'] \n",
      "comment by alext234 \n",
      "  image urls ['https://www.victa.com/content/dam/victa/au/en_au/images/support/Yard%20Tips%20Images/Grass%20Selection/VictaAUEN_GardenTips_Grass_Ryegrass.jpg', 'https://www.victa.com/content/dam/victa/au/en_au/images/support/Yard%20Tips%20Images/Grass%20Selection/VictaAUEN_GardenTips_Grass_Blue_Couch.jpg'] \n",
      "comment by alext234 \n",
      "  image urls ['https://www.victa.com/content/dam/victa/au/en_au/images/support/Yard%20Tips%20Images/Grass%20Selection/VictaAUEN_GardenTips_Grass_Ryegrass.jpg', 'https://www.victa.com/content/dam/victa/au/en_au/images/support/Yard%20Tips%20Images/Grass%20Selection/VictaAUEN_GardenTips_Grass_Blue_Couch.jpg'] \n",
      "    reaction by alext234 : +1\n",
      "comment by alext234 \n",
      "  image urls ['https://www.victa.com/content/dam/victa/au/en_au/images/support/Yard%20Tips%20Images/Grass%20Selection/VictaAUEN_GardenTips_Grass_Ryegrass.jpg', 'https://www.victa.com/content/dam/victa/au/en_au/images/support/Yard%20Tips%20Images/Grass%20Selection/VictaAUEN_GardenTips_Grass_Blue_Couch.jpg'] \n",
      "comment by alext234 \n",
      "  image urls ['https://www.victa.com/content/dam/victa/au/en_au/images/support/Yard%20Tips%20Images/Grass%20Selection/VictaAUEN_GardenTips_Grass_Ryegrass.jpg', 'https://www.victa.com/content/dam/victa/au/en_au/images/support/Yard%20Tips%20Images/Grass%20Selection/VictaAUEN_GardenTips_Grass_Blue_Couch.jpg'] \n",
      "    reaction by alext234 : +1\n",
      "comment by alext234 \n",
      "  image urls ['https://www.victa.com/content/dam/victa/au/en_au/images/support/Yard%20Tips%20Images/Grass%20Selection/VictaAUEN_GardenTips_Grass_Ryegrass.jpg', 'https://www.victa.com/content/dam/victa/au/en_au/images/support/Yard%20Tips%20Images/Grass%20Selection/VictaAUEN_GardenTips_Grass_Blue_Couch.jpg'] \n"
     ]
    }
   ],
   "source": [
    "# TODO mapping of '+1' --> 'weed', no reaction --> 'not_weed'\n",
    "# TODO handle issue should return list of (url, label)\n",
    "# TODO download images into folders, zip them and upload\n",
    "for issue in sample_issues:\n",
    "    handle_issue(issue)"
   ]
  },
  {
   "cell_type": "code",
   "execution_count": null,
   "metadata": {},
   "outputs": [],
   "source": []
  },
  {
   "cell_type": "code",
   "execution_count": null,
   "metadata": {},
   "outputs": [],
   "source": []
  },
  {
   "cell_type": "code",
   "execution_count": null,
   "metadata": {},
   "outputs": [],
   "source": []
  }
 ],
 "metadata": {
  "kernelspec": {
   "display_name": "Python 3",
   "language": "python",
   "name": "python3"
  },
  "language_info": {
   "codemirror_mode": {
    "name": "ipython",
    "version": 3
   },
   "file_extension": ".py",
   "mimetype": "text/x-python",
   "name": "python",
   "nbconvert_exporter": "python",
   "pygments_lexer": "ipython3",
   "version": "3.7.6"
  }
 },
 "nbformat": 4,
 "nbformat_minor": 4
}
