{
 "cells": [
  {
   "cell_type": "markdown",
   "metadata": {},
   "source": [
    "**This notebook does the following**\n",
    "* Go through the csv file of (url, label)\n",
    "* Download the files and stores them in separate directories `weed` and `not_weed`\n"
   ]
  },
  {
   "cell_type": "code",
   "execution_count": 146,
   "metadata": {},
   "outputs": [],
   "source": [
    "import pandas as pd\n",
    "from  pathlib import Path\n",
    "import hashlib\n",
    "\n",
    "from urllib import request\n",
    "from PIL import Image\n",
    "from img_utils import resize_image"
   ]
  },
  {
   "cell_type": "code",
   "execution_count": 147,
   "metadata": {},
   "outputs": [],
   "source": [
    "# read the list of url and label\n",
    "csv_file =  'urls_labels.csv'\n",
    "df = pd.read_csv(csv_file)"
   ]
  },
  {
   "cell_type": "code",
   "execution_count": 148,
   "metadata": {},
   "outputs": [
    {
     "name": "stdout",
     "output_type": "stream",
     "text": [
      "mkdir  weed\n",
      "mkdir  not_weed\n"
     ]
    }
   ],
   "source": [
    "# make sure the label directory are created\n",
    "\n",
    "for label in df['label'].unique():\n",
    "    print('mkdir ', label)\n",
    "    Path(label).mkdir(exist_ok=True)"
   ]
  },
  {
   "cell_type": "code",
   "execution_count": 150,
   "metadata": {},
   "outputs": [
    {
     "name": "stdout",
     "output_type": "stream",
     "text": [
      "weed https://user-images.githubusercontent.com/1624522/78473609-580faf00-7785-11ea-949d-680e17be9edf.jpeg  -->  weed/4111a518eade8c31ddfadc9b5c84c3ab.jpg\n",
      "not_weed https://user-images.githubusercontent.com/1624522/78473649-a91fa300-7785-11ea-80a2-a7d00ab535eb.jpeg  -->  not_weed/906c0fc783b877c9b01916bbd17f312c.jpg\n",
      "weed https://user-images.githubusercontent.com/1624522/78473664-c81e3500-7785-11ea-9c3e-370b862f1a02.jpeg  -->  weed/45021d2c9e3f3f17124add61b2798e5f.jpg\n",
      "not_weed https://user-images.githubusercontent.com/1624522/78473680-e7b55d80-7785-11ea-98d7-6e58c2df8338.jpeg  -->  not_weed/ebabe51ef1509da4ec9388c2db0bbbe8.jpg\n",
      "not_weed https://user-images.githubusercontent.com/1624522/78473706-103d5780-7786-11ea-9a91-bef522da507f.jpeg  -->  not_weed/4ebd8e10f6bc39167cea80f369d29ca2.jpg\n",
      "weed https://user-images.githubusercontent.com/1624522/78473734-306d1680-7786-11ea-96ea-6b7e05d8ba40.jpeg  -->  weed/e2b2395a1ed260865ff047198a62dce0.jpg\n",
      "weed https://user-images.githubusercontent.com/1624522/78473744-3fec5f80-7786-11ea-85e1-e1f4f05d1e72.jpeg  -->  weed/e6a17bbbf433b474110142ef2082e183.jpg\n",
      "not_weed https://user-images.githubusercontent.com/1624522/78473773-7fb34700-7786-11ea-9255-495d6cf1cf63.jpeg  -->  not_weed/906c0fc783b877c9b01916bbd17f312c.jpg\n",
      "not_weed https://user-images.githubusercontent.com/1624522/78476599-d2d9c980-7787-11ea-8f3a-59e9ec047e8c.jpeg  -->  not_weed/ebabe51ef1509da4ec9388c2db0bbbe8.jpg\n",
      "not_weed https://user-images.githubusercontent.com/1624522/78476784-df5e2200-7787-11ea-950d-8ef15e4b87b4.jpeg  -->  not_weed/906c0fc783b877c9b01916bbd17f312c.jpg\n",
      "weed http://livingturf.com.au/wp-content/uploads/2014/02/Bindii.jpg  -->  weed/1c716c01c2c98834e4db4f1d2264cbec.jpg\n",
      "weed http://livingturf.com.au/wp-content/uploads/2014/02/cats-ear.jpg  -->  weed/4bbe577c03e4f594ed5596ab7d629954.jpg\n",
      "weed http://livingturf.com.au/wp-content/uploads/2014/02/summer-grass.jpg  -->  weed/6fa75e2b1d6c4bf8200ab1f122f5e225.jpg\n",
      "weed http://livingturf.com.au/wp-content/uploads/2014/02/creeping-oxalis.jpg  -->  weed/54c7c4165cd23278e7781c717a2fcf69.jpg\n",
      "weed http://livingturf.com.au/wp-content/uploads/2014/02/Onion-Grass.jpg  -->  weed/6aa7fa3ff04411b410c46c9213575dc6.jpg\n",
      "weed http://livingturf.com.au/wp-content/uploads/2014/02/Nutgrass-e1392241083968.jpg  -->  weed/aff2cdf6953da34731de663463c81056.jpg\n",
      "weed http://livingturf.com.au/wp-content/uploads/2014/02/Flick-weed.jpg  -->  weed/11f3dc203f60367b889cbd9acf953d86.jpg\n",
      "weed http://livingturf.com.au/wp-content/uploads/2014/02/fleabane.jpg  -->  weed/f59823afa1b6d82100e46ffce021276b.jpg\n",
      "weed http://livingturf.com.au/wp-content/uploads/2014/02/Capeweed.jpg  -->  weed/3e9915eb072576bb7e6537f5b1131a46.jpg\n",
      "not_weed https://www.victa.com/content/dam/victa/au/en_au/images/support/Yard%20Tips%20Images/Grass%20Selection/VictaAUEN_GardenTips_Grass_Buffalo.jpg  -->  not_weed/11858d2a42ad30b668f0764530a00a67.jpg\n",
      "not_weed https://www.victa.com/content/dam/victa/au/en_au/images/support/Yard%20Tips%20Images/Grass%20Selection/VictaAUEN_GardenTips_Grass_Kikuyu.jpg  -->  not_weed/d8da04666764101b097b8a32c991d38b.jpg\n",
      "not_weed https://www.victa.com/content/dam/victa/au/en_au/images/support/Yard%20Tips%20Images/Grass%20Selection/VictaAUEN_GardenTips_Grass_Fescue.jpg  -->  not_weed/c7a1a3bf3ec6ebde8bbed23fd6194d29.jpg\n",
      "not_weed https://www.victa.com/content/dam/victa/au/en_au/images/support/Yard%20Tips%20Images/Grass%20Selection/VictaAUEN_GardenTips_Grass_Ryegrass.jpg  -->  not_weed/00f615da826ae7ba28f4287bc393de21.jpg\n",
      "not_weed https://www.victa.com/content/dam/victa/au/en_au/images/support/Yard%20Tips%20Images/Grass%20Selection/VictaAUEN_GardenTips_Grass_Blue_Couch.jpg  -->  not_weed/813454a3d5bbc2a77f5027ed64e36f9a.jpg\n"
     ]
    }
   ],
   "source": [
    "for row in df.iterrows():\n",
    "    label = row[1]['label']\n",
    "    url = row[1]['url']\n",
    "\n",
    "    # download the image resize and crop center\n",
    "    image_content = request.urlopen(url)\n",
    "    img = resize_image(Image.open(image_content))\n",
    "    filename = label+'/'+hashlib.md5(img.tobytes()).hexdigest()+'.jpg'\n",
    "    img.save(filename)\n",
    "    print(label, url, ' --> ', filename)"
   ]
  }
 ],
 "metadata": {
  "kernelspec": {
   "display_name": "Python 3",
   "language": "python",
   "name": "python3"
  },
  "language_info": {
   "codemirror_mode": {
    "name": "ipython",
    "version": 3
   },
   "file_extension": ".py",
   "mimetype": "text/x-python",
   "name": "python",
   "nbconvert_exporter": "python",
   "pygments_lexer": "ipython3",
   "version": "3.7.6"
  }
 },
 "nbformat": 4,
 "nbformat_minor": 4
}
